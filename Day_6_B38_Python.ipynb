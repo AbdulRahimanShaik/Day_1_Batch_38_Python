{
 "cells": [
  {
   "cell_type": "code",
   "execution_count": 1,
   "metadata": {},
   "outputs": [],
   "source": [
    "students= ['venila','yousuf','karthik','john','kumar','abhishek','latha','madhavi']"
   ]
  },
  {
   "cell_type": "code",
   "execution_count": 2,
   "metadata": {},
   "outputs": [
    {
     "name": "stdout",
     "output_type": "stream",
     "text": [
      "['venila', 'yousuf', 'karthik', 'john', 'kumar', 'abhishek', 'latha', 'madhavi']\n"
     ]
    }
   ],
   "source": [
    "print(students)"
   ]
  },
  {
   "cell_type": "code",
   "execution_count": 3,
   "metadata": {},
   "outputs": [
    {
     "data": {
      "text/plain": [
       "list"
      ]
     },
     "execution_count": 3,
     "metadata": {},
     "output_type": "execute_result"
    }
   ],
   "source": [
    "type(students)"
   ]
  },
  {
   "cell_type": "code",
   "execution_count": null,
   "metadata": {},
   "outputs": [],
   "source": [
    "#req: I want to appreciate all the students in the above list..."
   ]
  },
  {
   "cell_type": "code",
   "execution_count": 4,
   "metadata": {},
   "outputs": [
    {
     "name": "stdout",
     "output_type": "stream",
     "text": [
      "keep up the goodwork, Venila\n"
     ]
    }
   ],
   "source": [
    "print(f\"keep up the goodwork, {students[0].title()}\")"
   ]
  },
  {
   "cell_type": "code",
   "execution_count": 8,
   "metadata": {},
   "outputs": [
    {
     "name": "stdout",
     "output_type": "stream",
     "text": [
      "keep up the goodwork, Yousuf\n"
     ]
    }
   ],
   "source": [
    "print(f\"keep up the goodwork, {students[1].title()}\")"
   ]
  },
  {
   "cell_type": "code",
   "execution_count": 9,
   "metadata": {},
   "outputs": [
    {
     "name": "stdout",
     "output_type": "stream",
     "text": [
      "keep up the goodwork, Karthik\n"
     ]
    }
   ],
   "source": [
    "print(f\"keep up the goodwork, {students[2].title()}\")"
   ]
  },
  {
   "cell_type": "code",
   "execution_count": null,
   "metadata": {},
   "outputs": [],
   "source": [
    "#It is difficult to send email for each person using one line of code when there are millions of customers to any company."
   ]
  },
  {
   "cell_type": "code",
   "execution_count": null,
   "metadata": {},
   "outputs": [],
   "source": [
    "#Introduction to for loops:"
   ]
  },
  {
   "cell_type": "code",
   "execution_count": null,
   "metadata": {},
   "outputs": [],
   "source": [
    "#general syntax of a for loop:\n",
    "for tempvar in mainvar:\n",
    "\tprint(tempvar)\t\t#the gap in this syntax before the print function is called \"indentation\""
   ]
  },
  {
   "cell_type": "code",
   "execution_count": null,
   "metadata": {},
   "outputs": [],
   "source": [
    "#tempvar------> it can be any name,  x, y\n",
    "#mainvar in this case is students variable"
   ]
  },
  {
   "cell_type": "code",
   "execution_count": 10,
   "metadata": {},
   "outputs": [
    {
     "name": "stdout",
     "output_type": "stream",
     "text": [
      "keep up the good work, Venila\n",
      "keep up the good work, Yousuf\n",
      "keep up the good work, Karthik\n",
      "keep up the good work, John\n",
      "keep up the good work, Kumar\n",
      "keep up the good work, Abhishek\n",
      "keep up the good work, Latha\n",
      "keep up the good work, Madhavi\n"
     ]
    }
   ],
   "source": [
    "for x in students:\n",
    "    print(f\"keep up the good work, {x.title()}\")"
   ]
  },
  {
   "cell_type": "code",
   "execution_count": 14,
   "metadata": {
    "scrolled": true
   },
   "outputs": [
    {
     "name": "stdout",
     "output_type": "stream",
     "text": [
      "keep up the good work, Venila\n",
      "keep up the good work, Yousuf\n",
      "keep up the good work, Karthik\n",
      "keep up the good work, John\n",
      "keep up the good work, Kumar\n",
      "keep up the good work, Abhishek\n",
      "keep up the good work, Latha\n",
      "keep up the good work, Madhavi\n"
     ]
    }
   ],
   "source": [
    "for a in students:\n",
    "    print(f\"keep up the good work, {a.title()}\")"
   ]
  },
  {
   "cell_type": "code",
   "execution_count": 13,
   "metadata": {},
   "outputs": [],
   "source": [
    "#improvisation of the code....!\n",
    "#writing in the loop using indentation"
   ]
  },
  {
   "cell_type": "code",
   "execution_count": 15,
   "metadata": {},
   "outputs": [
    {
     "name": "stdout",
     "output_type": "stream",
     "text": [
      "keep up the good work, Venila\n",
      "will be looking forward to receive your practice file of today, Venila.\n",
      "\n",
      "keep up the good work, Yousuf\n",
      "will be looking forward to receive your practice file of today, Yousuf.\n",
      "\n",
      "keep up the good work, Karthik\n",
      "will be looking forward to receive your practice file of today, Karthik.\n",
      "\n",
      "keep up the good work, John\n",
      "will be looking forward to receive your practice file of today, John.\n",
      "\n",
      "keep up the good work, Kumar\n",
      "will be looking forward to receive your practice file of today, Kumar.\n",
      "\n",
      "keep up the good work, Abhishek\n",
      "will be looking forward to receive your practice file of today, Abhishek.\n",
      "\n",
      "keep up the good work, Latha\n",
      "will be looking forward to receive your practice file of today, Latha.\n",
      "\n",
      "keep up the good work, Madhavi\n",
      "will be looking forward to receive your practice file of today, Madhavi.\n",
      "\n"
     ]
    }
   ],
   "source": [
    "for a in students:\n",
    "    print(f\"keep up the good work, {a.title()}\")\n",
    "    print(f\"will be looking forward to receive your practice file of today, {a.title()}.\\n\")"
   ]
  },
  {
   "cell_type": "code",
   "execution_count": null,
   "metadata": {},
   "outputs": [],
   "source": [
    "#writing out of the loop...!"
   ]
  },
  {
   "cell_type": "code",
   "execution_count": 21,
   "metadata": {},
   "outputs": [
    {
     "name": "stdout",
     "output_type": "stream",
     "text": [
      "keep up the good work, Venila\n",
      "will be looking forward to receive your practice file of today, Venila.\n",
      "\n",
      "keep up the good work, Yousuf\n",
      "will be looking forward to receive your practice file of today, Yousuf.\n",
      "\n",
      "keep up the good work, Karthik\n",
      "will be looking forward to receive your practice file of today, Karthik.\n",
      "\n",
      "keep up the good work, John\n",
      "will be looking forward to receive your practice file of today, John.\n",
      "\n",
      "keep up the good work, Kumar\n",
      "will be looking forward to receive your practice file of today, Kumar.\n",
      "\n",
      "keep up the good work, Abhishek\n",
      "will be looking forward to receive your practice file of today, Abhishek.\n",
      "\n",
      "keep up the good work, Latha\n",
      "will be looking forward to receive your practice file of today, Latha.\n",
      "\n",
      "keep up the good work, Madhavi\n",
      "will be looking forward to receive your practice file of today, Madhavi.\n",
      "\n",
      "Thank you all of you for showing interest in learning python\n"
     ]
    }
   ],
   "source": [
    "for a in students:\n",
    "    print(f\"keep up the good work, {a.title()}\")\n",
    "    print(f\"will be looking forward to receive your practice file of today, {a.title()}.\\n\")\n",
    "print(\"Thank you all of you for showing interest in learning python\")"
   ]
  },
  {
   "cell_type": "code",
   "execution_count": null,
   "metadata": {},
   "outputs": [],
   "source": [
    "Interview: Do we have to give indentation in a for loop? \n",
    "Yes, we need to give indentation block to consider the lines by for loop, Else it will throw error."
   ]
  },
  {
   "cell_type": "code",
   "execution_count": null,
   "metadata": {},
   "outputs": [],
   "source": [
    "#Introduction to conditional statements in python:\n",
    "overview: The outcome of the program will be dependent on a certain condition\n",
    "\n",
    "If else conditions"
   ]
  }
 ],
 "metadata": {
  "kernelspec": {
   "display_name": "Python 3",
   "language": "python",
   "name": "python3"
  },
  "language_info": {
   "codemirror_mode": {
    "name": "ipython",
    "version": 3
   },
   "file_extension": ".py",
   "mimetype": "text/x-python",
   "name": "python",
   "nbconvert_exporter": "python",
   "pygments_lexer": "ipython3",
   "version": "3.8.5"
  }
 },
 "nbformat": 4,
 "nbformat_minor": 4
}
