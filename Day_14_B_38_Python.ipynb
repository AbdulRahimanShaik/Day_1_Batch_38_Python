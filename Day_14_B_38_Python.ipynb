{
 "cells": [
  {
   "cell_type": "code",
   "execution_count": null,
   "metadata": {},
   "outputs": [],
   "source": [
    "#Introduction to Python classes - continued\n",
    "1.class\n",
    "2.methods\n",
    "3.attributes\n",
    "4.self\n",
    "5.objects\n",
    "\n",
    "Example classes and objects to access the methods inside the class."
   ]
  },
  {
   "cell_type": "code",
   "execution_count": null,
   "metadata": {},
   "outputs": [],
   "source": [
    "#req: Create a Greet class which will be having the below methods\n",
    "#1. create_user --> It needs to accept the input from the user\n",
    "#2. display_user --> It needs to display the username\n",
    "#3. greet_user --> It needs to greet the user"
   ]
  },
  {
   "cell_type": "code",
   "execution_count": 1,
   "metadata": {},
   "outputs": [],
   "source": [
    "class Greet:\n",
    "    \"\"\"creating a greet class for describinng the user and greeting\"\"\"\n",
    "\n",
    "    def create_user(self,username):\n",
    "        self.username = username\n",
    "\n",
    "    def display_user(self):\n",
    "        print(self.username)\n",
    "\n",
    "    def greet_user(self):\n",
    "        print(f\"Hello, {self.username}\")"
   ]
  },
  {
   "cell_type": "code",
   "execution_count": 2,
   "metadata": {},
   "outputs": [],
   "source": [
    "test = Greet()   # object assignment to a class"
   ]
  },
  {
   "cell_type": "code",
   "execution_count": 3,
   "metadata": {},
   "outputs": [],
   "source": [
    "test.create_user('saima')  #accepting the input  from the user"
   ]
  },
  {
   "cell_type": "code",
   "execution_count": 4,
   "metadata": {},
   "outputs": [
    {
     "name": "stdout",
     "output_type": "stream",
     "text": [
      "saima\n"
     ]
    }
   ],
   "source": [
    "test.display_user()  # displaying the username"
   ]
  },
  {
   "cell_type": "code",
   "execution_count": 5,
   "metadata": {},
   "outputs": [
    {
     "name": "stdout",
     "output_type": "stream",
     "text": [
      "Hello, saima\n"
     ]
    }
   ],
   "source": [
    "test.greet_user()"
   ]
  },
  {
   "cell_type": "code",
   "execution_count": null,
   "metadata": {},
   "outputs": [],
   "source": [
    "This is OOPS ---> object oriented programming."
   ]
  },
  {
   "cell_type": "code",
   "execution_count": null,
   "metadata": {},
   "outputs": [],
   "source": [
    "Another example below"
   ]
  },
  {
   "cell_type": "code",
   "execution_count": 6,
   "metadata": {},
   "outputs": [],
   "source": [
    "xobj = Greet()  # object assignment to the class"
   ]
  },
  {
   "cell_type": "code",
   "execution_count": 7,
   "metadata": {},
   "outputs": [],
   "source": [
    "xobj.create_user('saima')"
   ]
  },
  {
   "cell_type": "code",
   "execution_count": 8,
   "metadata": {},
   "outputs": [
    {
     "name": "stdout",
     "output_type": "stream",
     "text": [
      "saima\n"
     ]
    }
   ],
   "source": [
    "xobj.display_user()"
   ]
  },
  {
   "cell_type": "code",
   "execution_count": 10,
   "metadata": {},
   "outputs": [
    {
     "name": "stdout",
     "output_type": "stream",
     "text": [
      "Hello, saima\n"
     ]
    }
   ],
   "source": [
    "xobj.greet_user()"
   ]
  },
  {
   "cell_type": "code",
   "execution_count": null,
   "metadata": {},
   "outputs": [],
   "source": [
    "#Introduction to constructor:\n",
    "Also called as special method/magical method as well\n",
    "Overview and understanding : Constructor is utilized for initializing the attributes and methods automatically."
   ]
  },
  {
   "cell_type": "code",
   "execution_count": null,
   "metadata": {},
   "outputs": [],
   "source": [
    "#How to define the constructor:\n",
    "    def _init_()"
   ]
  },
  {
   "cell_type": "code",
   "execution_count": null,
   "metadata": {},
   "outputs": [],
   "source": [
    "#req: create a dog class where in it needs to have the below methods\n",
    "#1.sit\n",
    "#2.jump\n",
    "#3.roll_over\n",
    "#4.sleep\n",
    "#5.details"
   ]
  },
  {
   "cell_type": "code",
   "execution_count": 33,
   "metadata": {},
   "outputs": [],
   "source": [
    "class Dog:\n",
    "    \"\"\"creating a dog class with its methods\"\"\"\n",
    "\n",
    "    def __init__(self,name,age):\n",
    "        self.name = name\n",
    "        self.age = age\n",
    "\n",
    "    def sit(self):\n",
    "        print(f\"{self.name} is now sitting on the command\")\n",
    "\n",
    "    def jump(self):\n",
    "        print(f\"{self.name} is now jumping on the command\")\n",
    "\n",
    "    def roll_over(self):\n",
    "        print(f\"{self.name} is now rolling over on the command\")\n",
    "\n",
    "    def sleep(self):\n",
    "        print(f\"{self.name} is now sleeping on the command\")\n",
    "    \n",
    "    def details(self):\n",
    "        print(f\"I have a dog named {self.name}\")\n",
    "        print(f\"{self.name} is of {self.age} years old\")"
   ]
  },
  {
   "cell_type": "code",
   "execution_count": 36,
   "metadata": {},
   "outputs": [],
   "source": [
    "test1 = Dog('scooby',2) #we can declare the arguments while assigning an object to the class directly** it is a best practice"
   ]
  },
  {
   "cell_type": "code",
   "execution_count": 37,
   "metadata": {},
   "outputs": [
    {
     "name": "stdout",
     "output_type": "stream",
     "text": [
      "scooby is now sitting on the command\n"
     ]
    }
   ],
   "source": [
    "test1.sit()"
   ]
  },
  {
   "cell_type": "code",
   "execution_count": 38,
   "metadata": {},
   "outputs": [
    {
     "name": "stdout",
     "output_type": "stream",
     "text": [
      "scooby is now jumping on the command\n"
     ]
    }
   ],
   "source": [
    "test1.jump()"
   ]
  },
  {
   "cell_type": "code",
   "execution_count": 39,
   "metadata": {},
   "outputs": [
    {
     "name": "stdout",
     "output_type": "stream",
     "text": [
      "scooby is now rolling over on the command\n"
     ]
    }
   ],
   "source": [
    "test1.roll_over()"
   ]
  }
 ],
 "metadata": {
  "kernelspec": {
   "display_name": "Python 3",
   "language": "python",
   "name": "python3"
  },
  "language_info": {
   "codemirror_mode": {
    "name": "ipython",
    "version": 3
   },
   "file_extension": ".py",
   "mimetype": "text/x-python",
   "name": "python",
   "nbconvert_exporter": "python",
   "pygments_lexer": "ipython3",
   "version": "3.8.5"
  }
 },
 "nbformat": 4,
 "nbformat_minor": 4
}
